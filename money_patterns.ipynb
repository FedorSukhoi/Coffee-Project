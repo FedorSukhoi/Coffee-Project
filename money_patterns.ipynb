{
 "cells": [
  {
   "cell_type": "code",
   "execution_count": 1,
   "id": "06fc0053",
   "metadata": {},
   "outputs": [],
   "source": [
    "import pandas as pd \n",
    "import numpy as np "
   ]
  },
  {
   "cell_type": "code",
   "execution_count": null,
   "id": "a3982e36",
   "metadata": {},
   "outputs": [
    {
     "data": {
      "text/html": [
       "<div>\n",
       "<style scoped>\n",
       "    .dataframe tbody tr th:only-of-type {\n",
       "        vertical-align: middle;\n",
       "    }\n",
       "\n",
       "    .dataframe tbody tr th {\n",
       "        vertical-align: top;\n",
       "    }\n",
       "\n",
       "    .dataframe thead th {\n",
       "        text-align: right;\n",
       "    }\n",
       "</style>\n",
       "<table border=\"1\" class=\"dataframe\">\n",
       "  <thead>\n",
       "    <tr style=\"text-align: right;\">\n",
       "      <th></th>\n",
       "      <th>hour_of_day</th>\n",
       "      <th>cash_type</th>\n",
       "      <th>money</th>\n",
       "      <th>coffee_name</th>\n",
       "      <th>Time_of_Day</th>\n",
       "      <th>Weekday</th>\n",
       "      <th>Month_name</th>\n",
       "      <th>Weekdaysort</th>\n",
       "      <th>Monthsort</th>\n",
       "      <th>Date</th>\n",
       "      <th>Time</th>\n",
       "    </tr>\n",
       "  </thead>\n",
       "  <tbody>\n",
       "    <tr>\n",
       "      <th>0</th>\n",
       "      <td>10</td>\n",
       "      <td>card</td>\n",
       "      <td>38.7</td>\n",
       "      <td>Latte</td>\n",
       "      <td>Morning</td>\n",
       "      <td>Fri</td>\n",
       "      <td>Mar</td>\n",
       "      <td>5</td>\n",
       "      <td>3</td>\n",
       "      <td>2024-03-01</td>\n",
       "      <td>10:15:50.520000</td>\n",
       "    </tr>\n",
       "    <tr>\n",
       "      <th>1</th>\n",
       "      <td>12</td>\n",
       "      <td>card</td>\n",
       "      <td>38.7</td>\n",
       "      <td>Hot Chocolate</td>\n",
       "      <td>Afternoon</td>\n",
       "      <td>Fri</td>\n",
       "      <td>Mar</td>\n",
       "      <td>5</td>\n",
       "      <td>3</td>\n",
       "      <td>2024-03-01</td>\n",
       "      <td>12:19:22.539000</td>\n",
       "    </tr>\n",
       "    <tr>\n",
       "      <th>2</th>\n",
       "      <td>12</td>\n",
       "      <td>card</td>\n",
       "      <td>38.7</td>\n",
       "      <td>Hot Chocolate</td>\n",
       "      <td>Afternoon</td>\n",
       "      <td>Fri</td>\n",
       "      <td>Mar</td>\n",
       "      <td>5</td>\n",
       "      <td>3</td>\n",
       "      <td>2024-03-01</td>\n",
       "      <td>12:20:18.089000</td>\n",
       "    </tr>\n",
       "    <tr>\n",
       "      <th>3</th>\n",
       "      <td>13</td>\n",
       "      <td>card</td>\n",
       "      <td>28.9</td>\n",
       "      <td>Americano</td>\n",
       "      <td>Afternoon</td>\n",
       "      <td>Fri</td>\n",
       "      <td>Mar</td>\n",
       "      <td>5</td>\n",
       "      <td>3</td>\n",
       "      <td>2024-03-01</td>\n",
       "      <td>13:46:33.006000</td>\n",
       "    </tr>\n",
       "    <tr>\n",
       "      <th>4</th>\n",
       "      <td>13</td>\n",
       "      <td>card</td>\n",
       "      <td>38.7</td>\n",
       "      <td>Latte</td>\n",
       "      <td>Afternoon</td>\n",
       "      <td>Fri</td>\n",
       "      <td>Mar</td>\n",
       "      <td>5</td>\n",
       "      <td>3</td>\n",
       "      <td>2024-03-01</td>\n",
       "      <td>13:48:14.626000</td>\n",
       "    </tr>\n",
       "  </tbody>\n",
       "</table>\n",
       "</div>"
      ],
      "text/plain": [
       "   hour_of_day cash_type  money    coffee_name Time_of_Day Weekday Month_name  \\\n",
       "0           10      card   38.7          Latte     Morning     Fri        Mar   \n",
       "1           12      card   38.7  Hot Chocolate   Afternoon     Fri        Mar   \n",
       "2           12      card   38.7  Hot Chocolate   Afternoon     Fri        Mar   \n",
       "3           13      card   28.9      Americano   Afternoon     Fri        Mar   \n",
       "4           13      card   38.7          Latte   Afternoon     Fri        Mar   \n",
       "\n",
       "   Weekdaysort  Monthsort        Date             Time  \n",
       "0            5          3  2024-03-01  10:15:50.520000  \n",
       "1            5          3  2024-03-01  12:19:22.539000  \n",
       "2            5          3  2024-03-01  12:20:18.089000  \n",
       "3            5          3  2024-03-01  13:46:33.006000  \n",
       "4            5          3  2024-03-01  13:48:14.626000  "
      ]
     },
     "execution_count": 2,
     "metadata": {},
     "output_type": "execute_result"
    }
   ],
   "source": [
    "coffee_data = pd.read_csv('/Users/mac/Desktop/Coffee Project/Coffe_sales.csv')\n",
    "coffee_data.head()"
   ]
  },
  {
   "cell_type": "code",
   "execution_count": 3,
   "id": "cdb97fcf",
   "metadata": {},
   "outputs": [
    {
     "data": {
      "text/plain": [
       "hour_of_day    0\n",
       "cash_type      0\n",
       "money          0\n",
       "coffee_name    0\n",
       "Time_of_Day    0\n",
       "Weekday        0\n",
       "Month_name     0\n",
       "Weekdaysort    0\n",
       "Monthsort      0\n",
       "Date           0\n",
       "Time           0\n",
       "dtype: int64"
      ]
     },
     "execution_count": 3,
     "metadata": {},
     "output_type": "execute_result"
    }
   ],
   "source": [
    "#checking for any missing values\n",
    "miising_values = coffee_data.isnull().sum()\n",
    "miising_values"
   ]
  },
  {
   "cell_type": "markdown",
   "id": "d2ab93c5",
   "metadata": {},
   "source": [
    "No Missing values. Expected, given the usability score of 10.0 on Kaggle"
   ]
  },
  {
   "cell_type": "markdown",
   "id": "1fbaf5ad",
   "metadata": {},
   "source": [
    "#### Scaling the prices and moving them to a separate column"
   ]
  },
  {
   "cell_type": "code",
   "execution_count": 4,
   "id": "6ecc1c8c",
   "metadata": {},
   "outputs": [],
   "source": [
    "from mlxtend.preprocessing import minmax_scaling"
   ]
  },
  {
   "cell_type": "code",
   "execution_count": 5,
   "id": "4b4b23fc",
   "metadata": {},
   "outputs": [],
   "source": [
    "import seaborn as sns\n",
    "import matplotlib.pyplot as plt"
   ]
  },
  {
   "cell_type": "code",
   "execution_count": 6,
   "id": "c4287cd4",
   "metadata": {},
   "outputs": [],
   "source": [
    "money = coffee_data['money'].to_numpy()"
   ]
  },
  {
   "cell_type": "code",
   "execution_count": 7,
   "id": "4b73fdc1",
   "metadata": {},
   "outputs": [],
   "source": [
    "scaled_data = minmax_scaling(money, columns=[0])"
   ]
  },
  {
   "cell_type": "code",
   "execution_count": 8,
   "id": "f1e809fc",
   "metadata": {},
   "outputs": [
    {
     "data": {
      "image/png": "[encoded data removed]",
      "text/plain": [
       "<Figure size 1500x300 with 2 Axes>"
      ]
     },
     "metadata": {},
     "output_type": "display_data"
    }
   ],
   "source": [
    "fig, ax = plt.subplots(1, 2, figsize=(15, 3))\n",
    "sns.histplot(money, ax=ax[0], kde=True, legend=False)\n",
    "ax[0].set_title(\"Original Data\")\n",
    "sns.histplot(scaled_data, ax=ax[1], kde=True, legend=False)\n",
    "ax[1].set_title(\"Scaled data\")\n",
    "plt.show()"
   ]
  },
  {
   "cell_type": "markdown",
   "id": "68a4fc97",
   "metadata": {},
   "source": [
    "The distribution shape stays the same, but the scale changes to normalized values."
   ]
  },
  {
   "cell_type": "code",
   "execution_count": 9,
   "id": "9c6ac98a",
   "metadata": {},
   "outputs": [
    {
     "data": {
      "text/html": [
       "<div>\n",
       "<style scoped>\n",
       "    .dataframe tbody tr th:only-of-type {\n",
       "        vertical-align: middle;\n",
       "    }\n",
       "\n",
       "    .dataframe tbody tr th {\n",
       "        vertical-align: top;\n",
       "    }\n",
       "\n",
       "    .dataframe thead th {\n",
       "        text-align: right;\n",
       "    }\n",
       "</style>\n",
       "<table border=\"1\" class=\"dataframe\">\n",
       "  <thead>\n",
       "    <tr style=\"text-align: right;\">\n",
       "      <th></th>\n",
       "      <th>hour_of_day</th>\n",
       "      <th>cash_type</th>\n",
       "      <th>money</th>\n",
       "      <th>coffee_name</th>\n",
       "      <th>Time_of_Day</th>\n",
       "      <th>Weekday</th>\n",
       "      <th>Month_name</th>\n",
       "      <th>Weekdaysort</th>\n",
       "      <th>Monthsort</th>\n",
       "      <th>Date</th>\n",
       "      <th>Time</th>\n",
       "      <th>money_scaled</th>\n",
       "    </tr>\n",
       "  </thead>\n",
       "  <tbody>\n",
       "    <tr>\n",
       "      <th>0</th>\n",
       "      <td>10</td>\n",
       "      <td>card</td>\n",
       "      <td>38.7</td>\n",
       "      <td>Latte</td>\n",
       "      <td>Morning</td>\n",
       "      <td>Fri</td>\n",
       "      <td>Mar</td>\n",
       "      <td>5</td>\n",
       "      <td>3</td>\n",
       "      <td>2024-03-01</td>\n",
       "      <td>10:15:50.520000</td>\n",
       "      <td>1.00000</td>\n",
       "    </tr>\n",
       "    <tr>\n",
       "      <th>1</th>\n",
       "      <td>12</td>\n",
       "      <td>card</td>\n",
       "      <td>38.7</td>\n",
       "      <td>Hot Chocolate</td>\n",
       "      <td>Afternoon</td>\n",
       "      <td>Fri</td>\n",
       "      <td>Mar</td>\n",
       "      <td>5</td>\n",
       "      <td>3</td>\n",
       "      <td>2024-03-01</td>\n",
       "      <td>12:19:22.539000</td>\n",
       "      <td>1.00000</td>\n",
       "    </tr>\n",
       "    <tr>\n",
       "      <th>2</th>\n",
       "      <td>12</td>\n",
       "      <td>card</td>\n",
       "      <td>38.7</td>\n",
       "      <td>Hot Chocolate</td>\n",
       "      <td>Afternoon</td>\n",
       "      <td>Fri</td>\n",
       "      <td>Mar</td>\n",
       "      <td>5</td>\n",
       "      <td>3</td>\n",
       "      <td>2024-03-01</td>\n",
       "      <td>12:20:18.089000</td>\n",
       "      <td>1.00000</td>\n",
       "    </tr>\n",
       "    <tr>\n",
       "      <th>3</th>\n",
       "      <td>13</td>\n",
       "      <td>card</td>\n",
       "      <td>28.9</td>\n",
       "      <td>Americano</td>\n",
       "      <td>Afternoon</td>\n",
       "      <td>Fri</td>\n",
       "      <td>Mar</td>\n",
       "      <td>5</td>\n",
       "      <td>3</td>\n",
       "      <td>2024-03-01</td>\n",
       "      <td>13:46:33.006000</td>\n",
       "      <td>0.52381</td>\n",
       "    </tr>\n",
       "    <tr>\n",
       "      <th>4</th>\n",
       "      <td>13</td>\n",
       "      <td>card</td>\n",
       "      <td>38.7</td>\n",
       "      <td>Latte</td>\n",
       "      <td>Afternoon</td>\n",
       "      <td>Fri</td>\n",
       "      <td>Mar</td>\n",
       "      <td>5</td>\n",
       "      <td>3</td>\n",
       "      <td>2024-03-01</td>\n",
       "      <td>13:48:14.626000</td>\n",
       "      <td>1.00000</td>\n",
       "    </tr>\n",
       "  </tbody>\n",
       "</table>\n",
       "</div>"
      ],
      "text/plain": [
       "   hour_of_day cash_type  money    coffee_name Time_of_Day Weekday Month_name  \\\n",
       "0           10      card   38.7          Latte     Morning     Fri        Mar   \n",
       "1           12      card   38.7  Hot Chocolate   Afternoon     Fri        Mar   \n",
       "2           12      card   38.7  Hot Chocolate   Afternoon     Fri        Mar   \n",
       "3           13      card   28.9      Americano   Afternoon     Fri        Mar   \n",
       "4           13      card   38.7          Latte   Afternoon     Fri        Mar   \n",
       "\n",
       "   Weekdaysort  Monthsort        Date             Time  money_scaled  \n",
       "0            5          3  2024-03-01  10:15:50.520000       1.00000  \n",
       "1            5          3  2024-03-01  12:19:22.539000       1.00000  \n",
       "2            5          3  2024-03-01  12:20:18.089000       1.00000  \n",
       "3            5          3  2024-03-01  13:46:33.006000       0.52381  \n",
       "4            5          3  2024-03-01  13:48:14.626000       1.00000  "
      ]
     },
     "execution_count": 9,
     "metadata": {},
     "output_type": "execute_result"
    }
   ],
   "source": [
    "coffee_data['money_scaled'] = scaled_data\n",
    "coffee_data.head()"
   ]
  },
  {
   "cell_type": "markdown",
   "id": "03560fad",
   "metadata": {},
   "source": [
    "#### Normalizing the prices and moving them to a separate column"
   ]
  },
  {
   "cell_type": "code",
   "execution_count": 10,
   "id": "08a4ea4b",
   "metadata": {},
   "outputs": [],
   "source": [
    "from scipy import stats"
   ]
  },
  {
   "cell_type": "code",
   "execution_count": 11,
   "id": "d7fd215d",
   "metadata": {},
   "outputs": [],
   "source": [
    "normalized_data = stats.boxcox(money) #using same money array as above"
   ]
  },
  {
   "cell_type": "code",
   "execution_count": 12,
   "id": "b2eea5ff",
   "metadata": {},
   "outputs": [
    {
     "data": {
      "image/png": "[encoded data removed]",
      "text/plain": [
       "<Figure size 1500x300 with 2 Axes>"
      ]
     },
     "metadata": {},
     "output_type": "display_data"
    }
   ],
   "source": [
    "fig, ax=plt.subplots(1, 2, figsize=(15, 3))\n",
    "sns.histplot(money, ax=ax[0], kde=True, legend=False)\n",
    "ax[0].set_title(\"Original Data\")\n",
    "sns.histplot(normalized_data[0], ax=ax[1], kde=True, legend=False)\n",
    "ax[1].set_title(\"Normalized data\")\n",
    "plt.show()"
   ]
  },
  {
   "cell_type": "markdown",
   "id": "2b13a295",
   "metadata": {},
   "source": [
    "Box-Cox successfully transformed money data from a skewed distribution to a more normal one, which is also why the values changed so much! The results itself might be connected with various factors. It is not very clear, why at 35 there is such an outlier"
   ]
  },
  {
   "cell_type": "markdown",
   "id": "c17cd3e3",
   "metadata": {},
   "source": [
    "#### Analyzing the most popular amount of money spent"
   ]
  },
  {
   "cell_type": "code",
   "execution_count": 13,
   "id": "f7b014a2",
   "metadata": {},
   "outputs": [
    {
     "data": {
      "text/plain": [
       "array([38.7 , 28.9 , 33.8 , 24.  , 32.82, 37.72, 27.92, 23.02, 18.12,\n",
       "       35.76, 30.86, 25.96, 21.06])"
      ]
     },
     "execution_count": 13,
     "metadata": {},
     "output_type": "execute_result"
    }
   ],
   "source": [
    "unique_tr = coffee_data['money'].unique()\n",
    "unique_tr"
   ]
  },
  {
   "cell_type": "markdown",
   "id": "73a78729",
   "metadata": {},
   "source": [
    "not too many different values"
   ]
  },
  {
   "cell_type": "code",
   "execution_count": 14,
   "id": "8056a542",
   "metadata": {},
   "outputs": [
    {
     "name": "stdout",
     "output_type": "stream",
     "text": [
      "money\n",
      "35.76    1014\n",
      "32.82     490\n",
      "25.96     459\n",
      "30.86     389\n",
      "27.92     334\n",
      "37.72     273\n",
      "23.02     208\n",
      "38.70     128\n",
      "28.90      93\n",
      "21.06      59\n",
      "33.80      51\n",
      "18.12      36\n",
      "24.00      13\n",
      "Name: count, dtype: int64\n"
     ]
    }
   ],
   "source": [
    "value_counts = coffee_data['money'].value_counts()\n",
    "print(value_counts)"
   ]
  },
  {
   "cell_type": "code",
   "execution_count": 15,
   "id": "aa48f5f8",
   "metadata": {},
   "outputs": [
    {
     "data": {
      "image/png": "[encoded data removed]",
      "text/plain": [
       "<Figure size 1200x600 with 1 Axes>"
      ]
     },
     "metadata": {},
     "output_type": "display_data"
    }
   ],
   "source": [
    "plt.figure(figsize=(12, 6))\n",
    "bars = plt.bar(value_counts.index.astype(str), value_counts.values) \n",
    "\n",
    "plt.xlabel('Money Values')\n",
    "plt.ylabel('Frequency')\n",
    "plt.title('Frequency of Money Values in Dataset')\n",
    "plt.xticks(rotation=35, ha='center')\n",
    "plt.tight_layout()\n",
    "plt.show()"
   ]
  },
  {
   "cell_type": "markdown",
   "id": "535f5ec4",
   "metadata": {},
   "source": [
    "##### This shows, that there might be some kind of an extremely popular type of order, valued at 35,76"
   ]
  },
  {
   "cell_type": "code",
   "execution_count": 16,
   "id": "2d7a0a53",
   "metadata": {},
   "outputs": [
    {
     "data": {
      "text/plain": [
       "coffee_name\n",
       "Latte            397\n",
       "Cappuccino       235\n",
       "Hot Chocolate    193\n",
       "Cocoa            189\n",
       "Name: count, dtype: int64"
      ]
     },
     "execution_count": 16,
     "metadata": {},
     "output_type": "execute_result"
    }
   ],
   "source": [
    "hit = coffee_data[coffee_data['money'] == 35.76]\n",
    "coffee_counts = hit['coffee_name'].value_counts()\n",
    "coffee_counts"
   ]
  },
  {
   "cell_type": "code",
   "execution_count": 17,
   "id": "4ac98f7e",
   "metadata": {},
   "outputs": [
    {
     "data": {
      "text/plain": [
       "coffee_name\n",
       "Latte                  194\n",
       "Americano with Milk    147\n",
       "Cappuccino              96\n",
       "Cocoa                   27\n",
       "Hot Chocolate           26\n",
       "Name: count, dtype: int64"
      ]
     },
     "execution_count": 17,
     "metadata": {},
     "output_type": "execute_result"
    }
   ],
   "source": [
    "hit_2 = coffee_data[coffee_data['money'] == 32.82]\n",
    "coffee_counts_2 = hit_2['coffee_name'].value_counts()\n",
    "coffee_counts_2"
   ]
  },
  {
   "cell_type": "code",
   "execution_count": 18,
   "id": "1fcbe940",
   "metadata": {},
   "outputs": [
    {
     "data": {
      "text/plain": [
       "coffee_name\n",
       "Americano    341\n",
       "Cortado      118\n",
       "Name: count, dtype: int64"
      ]
     },
     "execution_count": 18,
     "metadata": {},
     "output_type": "execute_result"
    }
   ],
   "source": [
    "hit_3 = coffee_data[coffee_data['money'] == 25.96]\n",
    "coffee_counts_3 = hit_3['coffee_name'].value_counts()\n",
    "coffee_counts_3"
   ]
  },
  {
   "cell_type": "markdown",
   "id": "2a6baec1",
   "metadata": {},
   "source": [
    "Different drinks priced differently, but no singular outliers. However, we can see that Latte, Hot Chocolate, Cappucino appear both in 35.76 dataset and 32,82 dataset. *Either the price changed, or there are some other order details, which are not included in the dataset.*\n",
    "\n",
    "To check that, it might be helpful to look at the dates in the datasets"
   ]
  },
  {
   "cell_type": "code",
   "execution_count": 19,
   "id": "b387c1d2",
   "metadata": {},
   "outputs": [
    {
     "data": {
      "text/plain": [
       "Date\n",
       "2024-10-17    17\n",
       "2025-03-03    16\n",
       "2024-10-11    14\n",
       "2024-11-05    13\n",
       "2024-10-20    13\n",
       "              ..\n",
       "2025-01-12     1\n",
       "2025-01-05     1\n",
       "2024-12-10     1\n",
       "2024-11-24     1\n",
       "2024-12-26     1\n",
       "Name: count, Length: 169, dtype: int64"
      ]
     },
     "execution_count": 19,
     "metadata": {},
     "output_type": "execute_result"
    }
   ],
   "source": [
    "coffee_dates = hit['Date'].value_counts()\n",
    "coffee_dates"
   ]
  },
  {
   "cell_type": "code",
   "execution_count": 20,
   "id": "f23075fc",
   "metadata": {},
   "outputs": [
    {
     "data": {
      "text/plain": [
       "Date\n",
       "2024-09-09    12\n",
       "2024-07-31    10\n",
       "2024-09-27     9\n",
       "2024-08-11     9\n",
       "2024-09-03     9\n",
       "              ..\n",
       "2024-08-28     1\n",
       "2024-08-30     1\n",
       "2024-07-28     1\n",
       "2024-06-14     1\n",
       "2024-07-15     1\n",
       "Name: count, Length: 140, dtype: int64"
      ]
     },
     "execution_count": 20,
     "metadata": {},
     "output_type": "execute_result"
    }
   ],
   "source": [
    "coffee_dates_2 = hit_2['Date'].value_counts()\n",
    "coffee_dates_2"
   ]
  },
  {
   "cell_type": "markdown",
   "id": "5ab68f80",
   "metadata": {},
   "source": [
    "Dates cross, so the things left to check are time of the day, and the day of the week"
   ]
  },
  {
   "cell_type": "code",
   "execution_count": 21,
   "id": "85f302f5",
   "metadata": {},
   "outputs": [
    {
     "data": {
      "text/plain": [
       "Weekday\n",
       "Mon    172\n",
       "Fri    164\n",
       "Tue    160\n",
       "Thu    149\n",
       "Wed    145\n",
       "Sat    112\n",
       "Sun    112\n",
       "Name: count, dtype: int64"
      ]
     },
     "execution_count": 21,
     "metadata": {},
     "output_type": "execute_result"
    }
   ],
   "source": [
    "coffee_day = hit['Weekday'].value_counts()\n",
    "coffee_day"
   ]
  },
  {
   "cell_type": "code",
   "execution_count": 22,
   "id": "5d07dab7",
   "metadata": {},
   "outputs": [
    {
     "data": {
      "text/plain": [
       "Time_of_Day\n",
       "Night        387\n",
       "Afternoon    384\n",
       "Morning      243\n",
       "Name: count, dtype: int64"
      ]
     },
     "execution_count": 22,
     "metadata": {},
     "output_type": "execute_result"
    }
   ],
   "source": [
    "coffee_day = hit['Time_of_Day'].value_counts()\n",
    "coffee_day"
   ]
  },
  {
   "cell_type": "markdown",
   "id": "63ab50a9",
   "metadata": {},
   "source": [
    "##### No clear pattern. Unfortunately, that indicates missing entries. Most likely, about a side to the coffee."
   ]
  }
 ],
 "metadata": {
  "kernelspec": {
   "display_name": "base",
   "language": "python",
   "name": "python3"
  },
  "language_info": {
   "codemirror_mode": {
    "name": "ipython",
    "version": 3
   },
   "file_extension": ".py",
   "mimetype": "text/x-python",
   "name": "python",
   "nbconvert_exporter": "python",
   "pygments_lexer": "ipython3",
   "version": "3.13.5"
  }
 },
 "nbformat": 4,
 "nbformat_minor": 5
}
